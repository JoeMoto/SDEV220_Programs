{
 "cells": [
  {
   "cell_type": "code",
   "execution_count": 4,
   "id": "c0d0228c",
   "metadata": {},
   "outputs": [
    {
     "name": "stdout",
     "output_type": "stream",
     "text": [
      "Open 9-5 daily\n"
     ]
    }
   ],
   "source": [
    "# 11.2\n",
    "import zoo as menagerie\n",
    "\n",
    "menagerie.hours()"
   ]
  },
  {
   "cell_type": "code",
   "execution_count": null,
   "id": "31ff5e66",
   "metadata": {},
   "outputs": [],
   "source": [
    "# 16.8\n",
    "from sqlalchemy import create_engine, MetaData, Table\n",
    "from sqlalchemy.orm import sessionmaker\n",
    "\n",
    "\n",
    "\n",
    "engine = create_engine('sqlite:///books.db')\n",
    "conn = engine.connect()\n",
    "metadata = MetaData()\n",
    "book = Table('book', metadata, autoload=True, autoload_with=engine)\n",
    "Session = sessionmaker(bind=engine)\n",
    "session = Session()\n",
    "query = session.query(book.columns.title).order_by(book.columns.title)\n",
    "\n",
    "for title in query:\n",
    "    print(title)\n",
    "\n",
    "session.close()"
   ]
  }
 ],
 "metadata": {
  "kernelspec": {
   "display_name": "base",
   "language": "python",
   "name": "python3"
  },
  "language_info": {
   "codemirror_mode": {
    "name": "ipython",
    "version": 3
   },
   "file_extension": ".py",
   "mimetype": "text/x-python",
   "name": "python",
   "nbconvert_exporter": "python",
   "pygments_lexer": "ipython3",
   "version": "3.13.5"
  }
 },
 "nbformat": 4,
 "nbformat_minor": 5
}
