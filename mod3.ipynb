{
 "cells": [
  {
   "cell_type": "code",
   "execution_count": null,
   "id": "635f9946",
   "metadata": {},
   "outputs": [],
   "source": [
    "# Object-Oriented Programming Excercise\n"
   ]
  },
  {
   "cell_type": "code",
   "execution_count": null,
   "id": "6426f192",
   "metadata": {},
   "outputs": [],
   "source": [
    "# Lambda Expressions Ecercise\n",
    "class Solution:\n",
    "    def binarysearch(self, arr, k):\n",
    "        left = 0\n",
    "        right = len(arr) - 1\n",
    "        \n",
    "        while left <= right:\n",
    "            mid = (left + right) // 2\n",
    "            \n",
    "            if arr[mid] == k:\n",
    "                return mid\n",
    "            elif arr[mid] < k:\n",
    "                left = mid + 1\n",
    "            else:\n",
    "                right = mid - 1\n",
    "        \n",
    "        return -1"
   ]
  }
 ],
 "metadata": {
  "language_info": {
   "name": "python"
  }
 },
 "nbformat": 4,
 "nbformat_minor": 5
}
