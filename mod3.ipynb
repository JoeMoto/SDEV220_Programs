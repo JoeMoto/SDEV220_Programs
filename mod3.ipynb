{
 "cells": [
  {
   "cell_type": "code",
   "execution_count": 2,
   "id": "635f9946",
   "metadata": {},
   "outputs": [],
   "source": [
    "# Object-Oriented Programming Excercise\n",
    "class Solution:\n",
    "    def sort012(self, arr):\n",
    "        count0 = 0\n",
    "        count1 = 0\n",
    "        count2 = 0\n",
    "        \n",
    "        for num in arr:\n",
    "            if num == 0:\n",
    "                count0 = count0 + 1\n",
    "            elif num == 1:\n",
    "                count1 = count1 + 1\n",
    "            else:\n",
    "                count2 = count2 + 1\n",
    "        \n",
    "        index = 0\n",
    "        \n",
    "        for i in range(count0):\n",
    "            arr[index] = 0\n",
    "            index = index + 1\n",
    "        \n",
    "        for i in range(count1):\n",
    "            arr[index] = 1\n",
    "            index = index + 1\n",
    "        \n",
    "        for i in range(count2):\n",
    "            arr[index] = 2\n",
    "            index = index + 1"
   ]
  },
  {
   "cell_type": "code",
   "execution_count": 1,
   "id": "6426f192",
   "metadata": {},
   "outputs": [],
   "source": [
    "# Lambda Expressions Ecercise\n",
    "class Solution:\n",
    "    def binarysearch(self, arr, k):\n",
    "        left = 0\n",
    "        right = len(arr) - 1\n",
    "        \n",
    "        while left <= right:\n",
    "            mid = (left + right) // 2\n",
    "            \n",
    "            if arr[mid] == k:\n",
    "                return mid\n",
    "            elif arr[mid] < k:\n",
    "                left = mid + 1\n",
    "            else:\n",
    "                right = mid - 1\n",
    "        \n",
    "        return -1"
   ]
  }
 ],
 "metadata": {
  "kernelspec": {
   "display_name": "base",
   "language": "python",
   "name": "python3"
  },
  "language_info": {
   "codemirror_mode": {
    "name": "ipython",
    "version": 3
   },
   "file_extension": ".py",
   "mimetype": "text/x-python",
   "name": "python",
   "nbconvert_exporter": "python",
   "pygments_lexer": "ipython3",
   "version": "3.13.5"
  }
 },
 "nbformat": 4,
 "nbformat_minor": 5
}
