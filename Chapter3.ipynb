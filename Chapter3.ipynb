{
 "cells": [
  {
   "cell_type": "code",
   "execution_count": 2,
   "id": "dd9dd9a4-4212-4466-b2f3-5abc6aff6521",
   "metadata": {},
   "outputs": [
    {
     "name": "stdout",
     "output_type": "stream",
     "text": [
      "3.1:\n",
      "3600\n",
      "\n",
      "3.3:\n",
      "86400\n",
      "\n",
      "3.5:\n",
      "24.0\n",
      "\n",
      "3.6:\n",
      "24\n",
      "\n",
      "Yes, they agree, 24.0 and 24 are the same number\n"
     ]
    }
   ],
   "source": [
    "print(\"3.1:\")\n",
    "print(60 * 60)\n",
    "print()\n",
    "\n",
    "# 3.2:\n",
    "seconds_per_hour = 60 * 60\n",
    "\n",
    "print(\"3.3:\")\n",
    "print(seconds_per_hour * 24)\n",
    "print()\n",
    "\n",
    "# 3.4:\n",
    "seconds_per_day = seconds_per_hour * 24\n",
    "\n",
    "print(\"3.5:\")\n",
    "print(seconds_per_day / seconds_per_hour)\n",
    "print()\n",
    "\n",
    "print(\"3.6:\")\n",
    "print(seconds_per_day // seconds_per_hour)\n",
    "print()\n",
    "print(\"Yes, they agree, 24.0 and 24 are the same number\")"
   ]
  }
 ],
 "metadata": {
  "kernelspec": {
   "display_name": "base",
   "language": "python",
   "name": "python3"
  },
  "language_info": {
   "codemirror_mode": {
    "name": "ipython",
    "version": 3
   },
   "file_extension": ".py",
   "mimetype": "text/x-python",
   "name": "python",
   "nbconvert_exporter": "python",
   "pygments_lexer": "ipython3",
   "version": "3.13.5"
  }
 },
 "nbformat": 4,
 "nbformat_minor": 5
}
